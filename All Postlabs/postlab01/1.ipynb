{
 "cells": [
  {
   "cell_type": "code",
   "execution_count": 1,
   "id": "4b429efb",
   "metadata": {},
   "outputs": [
    {
     "name": "stdout",
     "output_type": "stream",
     "text": [
      "Welcome to Python\n",
      "Welcome to Python\n",
      "Welcome to Python\n",
      "Welcome to Python\n",
      "Welcome to Python\n"
     ]
    }
   ],
   "source": [
    "# Program (a) – Display \"Welcome to Python\" five times\n",
    "\n",
    "for i in range(5):\n",
    "    print(\"Welcome to Python\")"
   ]
  },
  {
   "cell_type": "code",
   "execution_count": 2,
   "id": "657fe4b6",
   "metadata": {},
   "outputs": [
    {
     "name": "stdout",
     "output_type": "stream",
     "text": [
      "Number\tSquare\tCube\n",
      "1 \t 1 \t 1\n",
      "2 \t 4 \t 8\n",
      "3 \t 9 \t 27\n",
      "4 \t 16 \t 64\n",
      "5 \t 25 \t 125\n"
     ]
    }
   ],
   "source": [
    "# Program (b) – Display a table of numbers, squares, and cubes\n",
    "\n",
    "print(\"Number\\tSquare\\tCube\")\n",
    "for n in range(1, 6):\n",
    "    print(n, \"\\t\", n**2, \"\\t\", n**3)"
   ]
  },
  {
   "cell_type": "code",
   "execution_count": 4,
   "id": "a47fae2b",
   "metadata": {},
   "outputs": [
    {
     "name": "stdout",
     "output_type": "stream",
     "text": [
      "Result: 0.8392857142857143\n"
     ]
    }
   ],
   "source": [
    "result = (9.5 * 4.5 - 2.5 * 3) / (45.5 - 3.5)\n",
    "\n",
    "# Print the final result\n",
    "print(f\"Result: {result}\")"
   ]
  }
 ],
 "metadata": {
  "kernelspec": {
   "display_name": ".venv",
   "language": "python",
   "name": "python3"
  },
  "language_info": {
   "codemirror_mode": {
    "name": "ipython",
    "version": 3
   },
   "file_extension": ".py",
   "mimetype": "text/x-python",
   "name": "python",
   "nbconvert_exporter": "python",
   "pygments_lexer": "ipython3",
   "version": "3.12.4"
  }
 },
 "nbformat": 4,
 "nbformat_minor": 5
}
