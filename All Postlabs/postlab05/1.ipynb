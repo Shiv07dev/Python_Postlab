{
 "cells": [
  {
   "cell_type": "code",
   "execution_count": null,
   "id": "d2180f37",
   "metadata": {},
   "outputs": [
    {
     "name": "stdout",
     "output_type": "stream",
     "text": [
      "Tuple: (1, 2, 3, 2, 4, 2, 5)\n",
      "Occurrences of 2 = 3\n"
     ]
    }
   ],
   "source": [
    "# Program (a) – Count occurrences of an element in a tuple\n",
    "\n",
    "t = (1, 2, 3, 2, 4, 2, 5)\n",
    "element = 2\n",
    "\n",
    "count = t.count(element)\n",
    "print(\"Tuple:\", t)\n",
    "print(\"Occurrences of\", element, \"=\", count)\n",
    "\n",
    "\n",
    "\n",
    "\n",
    "\n",
    "\n"
   ]
  },
  {
   "cell_type": "code",
   "execution_count": 3,
   "id": "28a8765b",
   "metadata": {},
   "outputs": [
    {
     "name": "stdout",
     "output_type": "stream",
     "text": [
      "30 exists in the tuple.\n"
     ]
    }
   ],
   "source": [
    "# Program (b) – Check if an element exists in a tuple\n",
    "\n",
    "t = (10, 20, 30, 40, 50)\n",
    "element = 30\n",
    "\n",
    "if element in t:\n",
    "    print(element, \"exists in the tuple.\")\n",
    "else:\n",
    "    print(element, \"does not exist in the tuple.\")"
   ]
  },
  {
   "cell_type": "code",
   "execution_count": 2,
   "id": "ff463cac",
   "metadata": {},
   "outputs": [
    {
     "name": "stdout",
     "output_type": "stream",
     "text": [
      "Tuple: ('M', 'a', 'r', 'w', 'a', 'd', 'i')\n",
      "String: Marwadi\n"
     ]
    }
   ],
   "source": [
    "# Program (c) – Convert a tuple to a string\n",
    "\n",
    "t = ('M', 'a', 'r', 'w', 'a', 'd', 'i')\n",
    "result = ''.join(t)\n",
    "\n",
    "print(\"Tuple:\", t)\n",
    "print(\"String:\", result)"
   ]
  },
  {
   "cell_type": "code",
   "execution_count": 4,
   "id": "33589f37",
   "metadata": {},
   "outputs": [
    {
     "name": "stdout",
     "output_type": "stream",
     "text": [
      "Tuple: (15, 8, 22, 3, 19)\n",
      "Maximum = 22\n",
      "Minimum = 3\n"
     ]
    }
   ],
   "source": [
    "# Program (d) – Find max and min in a tuple\n",
    "\n",
    "t = (15, 8, 22, 3, 19)\n",
    "print(\"Tuple:\", t)\n",
    "print(\"Maximum =\", max(t))\n",
    "print(\"Minimum =\", min(t))"
   ]
  },
  {
   "cell_type": "code",
   "execution_count": 5,
   "id": "0ddfa73c",
   "metadata": {},
   "outputs": [
    {
     "name": "stdout",
     "output_type": "stream",
     "text": [
      "Tuple: ('Marwadi', 'University', 'ICT')\n",
      "Single String: Marwadi University ICT\n"
     ]
    }
   ],
   "source": [
    "# Program (e) – Convert tuple of strings to single string\n",
    "\n",
    "t = (\"Marwadi\", \"University\", \"ICT\")\n",
    "result = \" \".join(t)\n",
    "\n",
    "print(\"Tuple:\", t)\n",
    "print(\"Single String:\", result)"
   ]
  },
  {
   "cell_type": "code",
   "execution_count": 6,
   "id": "c339cd1c",
   "metadata": {},
   "outputs": [
    {
     "name": "stdout",
     "output_type": "stream",
     "text": [
      "Original Tuple: (23, 5, 12, 9, 30, 1)\n",
      "Sorted Tuple: (1, 5, 9, 12, 23, 30)\n"
     ]
    }
   ],
   "source": [
    "# Program (f) – Sort a tuple of integers\n",
    "\n",
    "t = (23, 5, 12, 9, 30, 1)\n",
    "sorted_tuple = tuple(sorted(t))\n",
    "\n",
    "print(\"Original Tuple:\", t)\n",
    "print(\"Sorted Tuple:\", sorted_tuple)"
   ]
  },
  {
   "cell_type": "code",
   "execution_count": 7,
   "id": "6f9b33e5",
   "metadata": {},
   "outputs": [
    {
     "name": "stdout",
     "output_type": "stream",
     "text": [
      "Tuple: (100, 200, 300, 400, 500)\n",
      "First element = 100\n",
      "Last element = 500\n"
     ]
    }
   ],
   "source": [
    "# Program (g) – Find first and last elements of a tuple\n",
    "\n",
    "t = (100, 200, 300, 400, 500)\n",
    "print(\"Tuple:\", t)\n",
    "print(\"First element =\", t[0])\n",
    "print(\"Last element =\", t[-1])"
   ]
  },
  {
   "cell_type": "code",
   "execution_count": null,
   "id": "0904fbf5",
   "metadata": {},
   "outputs": [],
   "source": []
  }
 ],
 "metadata": {
  "kernelspec": {
   "display_name": ".venv",
   "language": "python",
   "name": "python3"
  },
  "language_info": {
   "codemirror_mode": {
    "name": "ipython",
    "version": 3
   },
   "file_extension": ".py",
   "mimetype": "text/x-python",
   "name": "python",
   "nbconvert_exporter": "python",
   "pygments_lexer": "ipython3",
   "version": "3.12.4"
  }
 },
 "nbformat": 4,
 "nbformat_minor": 5
}
