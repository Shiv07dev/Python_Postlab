{
 "cells": [
  {
   "cell_type": "code",
   "execution_count": 1,
   "id": "a0ef9c4b",
   "metadata": {},
   "outputs": [
    {
     "name": "stdout",
     "output_type": "stream",
     "text": [
      "Series 1:\n",
      " 0    10\n",
      "1    20\n",
      "2    30\n",
      "3    40\n",
      "4    50\n",
      "dtype: int64\n",
      "Series 2:\n",
      " 0     2\n",
      "1     4\n",
      "2     6\n",
      "3     8\n",
      "4    10\n",
      "dtype: int64\n",
      "\n",
      "Addition:\n",
      " 0    12\n",
      "1    24\n",
      "2    36\n",
      "3    48\n",
      "4    60\n",
      "dtype: int64\n",
      "Subtraction:\n",
      " 0     8\n",
      "1    16\n",
      "2    24\n",
      "3    32\n",
      "4    40\n",
      "dtype: int64\n",
      "Multiplication:\n",
      " 0     20\n",
      "1     80\n",
      "2    180\n",
      "3    320\n",
      "4    500\n",
      "dtype: int64\n",
      "Division:\n",
      " 0    5.0\n",
      "1    5.0\n",
      "2    5.0\n",
      "3    5.0\n",
      "4    5.0\n",
      "dtype: float64\n"
     ]
    }
   ],
   "source": [
    "import pandas as pd\n",
    "\n",
    "# create two series\n",
    "s1 = pd.Series([10, 20, 30, 40, 50])\n",
    "s2 = pd.Series([2, 4, 6, 8, 10])\n",
    "\n",
    "print(\"Series 1:\\n\", s1)\n",
    "print(\"Series 2:\\n\", s2)\n",
    "\n",
    "print(\"\\nAddition:\\n\", s1 + s2)\n",
    "print(\"Subtraction:\\n\", s1 - s2)\n",
    "print(\"Multiplication:\\n\", s1 * s2)\n",
    "print(\"Division:\\n\", s1 / s2)"
   ]
  },
  {
   "cell_type": "code",
   "execution_count": 2,
   "id": "45057b66",
   "metadata": {},
   "outputs": [
    {
     "name": "stdout",
     "output_type": "stream",
     "text": [
      "Dictionary converted to Series:\n",
      " a    100\n",
      "b    200\n",
      "c    300\n",
      "d    400\n",
      "dtype: int64\n"
     ]
    }
   ],
   "source": [
    "import pandas as pd\n",
    "\n",
    "# dictionary data\n",
    "data = {'a': 100, 'b': 200, 'c': 300, 'd': 400}\n",
    "\n",
    "# convert to series\n",
    "s = pd.Series(data)\n",
    "print(\"Dictionary converted to Series:\\n\", s)\n"
   ]
  },
  {
   "cell_type": "code",
   "execution_count": 3,
   "id": "cd9041ba",
   "metadata": {},
   "outputs": [
    {
     "name": "stdout",
     "output_type": "stream",
     "text": [
      "Series from List:\n",
      " 0    1\n",
      "1    2\n",
      "2    3\n",
      "3    4\n",
      "4    5\n",
      "dtype: int64\n",
      "\n",
      "Series from NumPy Array:\n",
      " 0    10\n",
      "1    20\n",
      "2    30\n",
      "3    40\n",
      "dtype: int64\n",
      "\n",
      "Series from Dictionary:\n",
      " x     5\n",
      "y    10\n",
      "z    15\n",
      "dtype: int64\n"
     ]
    }
   ],
   "source": [
    "import pandas as pd\n",
    "import numpy as np\n",
    "\n",
    "# from list\n",
    "list_data = [1, 2, 3, 4, 5]\n",
    "s_list = pd.Series(list_data)\n",
    "print(\"Series from List:\\n\", s_list)\n",
    "\n",
    "# from numpy array\n",
    "array_data = np.array([10, 20, 30, 40])\n",
    "s_array = pd.Series(array_data)\n",
    "print(\"\\nSeries from NumPy Array:\\n\", s_array)\n",
    "\n",
    "# from dictionary\n",
    "dict_data = {'x': 5, 'y': 10, 'z': 15}\n",
    "s_dict = pd.Series(dict_data)\n",
    "print(\"\\nSeries from Dictionary:\\n\", s_dict)"
   ]
  },
  {
   "cell_type": "code",
   "execution_count": 4,
   "id": "44798cbe",
   "metadata": {},
   "outputs": [
    {
     "name": "stdout",
     "output_type": "stream",
     "text": [
      "Vertical Stacking:\n",
      " 0    1\n",
      "1    2\n",
      "2    3\n",
      "0    4\n",
      "1    5\n",
      "2    6\n",
      "dtype: int64\n",
      "\n",
      "Horizontal Stacking:\n",
      "    0  1\n",
      "0  1  4\n",
      "1  2  5\n",
      "2  3  6\n"
     ]
    }
   ],
   "source": [
    "import pandas as pd\n",
    "\n",
    "# two series\n",
    "s1 = pd.Series([1, 2, 3])\n",
    "s2 = pd.Series([4, 5, 6])\n",
    "\n",
    "# vertical stack\n",
    "vertical = pd.concat([s1, s2], axis=0)\n",
    "print(\"Vertical Stacking:\\n\", vertical)\n",
    "\n",
    "# horizontal stack\n",
    "horizontal = pd.concat([s1, s2], axis=1)\n",
    "print(\"\\nHorizontal Stacking:\\n\", horizontal)\n"
   ]
  }
 ],
 "metadata": {
  "kernelspec": {
   "display_name": ".venv",
   "language": "python",
   "name": "python3"
  },
  "language_info": {
   "codemirror_mode": {
    "name": "ipython",
    "version": 3
   },
   "file_extension": ".py",
   "mimetype": "text/x-python",
   "name": "python",
   "nbconvert_exporter": "python",
   "pygments_lexer": "ipython3",
   "version": "3.12.4"
  }
 },
 "nbformat": 4,
 "nbformat_minor": 5
}
