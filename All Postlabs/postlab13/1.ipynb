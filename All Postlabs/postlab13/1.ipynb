{
 "cells": [
  {
   "cell_type": "code",
   "execution_count": 3,
   "id": "7ba6c442",
   "metadata": {},
   "outputs": [
    {
     "name": "stdout",
     "output_type": "stream",
     "text": [
      "File: shivintro.txt\n",
      "Lines: 2\n",
      "Words: 12\n",
      "Characters: 73\n"
     ]
    }
   ],
   "source": [
    "filename = \"shivintro.txt\"\n",
    "\n",
    "line_count = 0\n",
    "word_count = 0\n",
    "char_count = 0\n",
    "\n",
    "with open(filename, \"r\") as f:\n",
    "    for line in f:\n",
    "        line_count += 1\n",
    "        word_count += len(line.split())\n",
    "        char_count += len(line)\n",
    "\n",
    "print(\"File:\", filename)\n",
    "print(\"Lines:\", line_count)\n",
    "print(\"Words:\", word_count)\n",
    "print(\"Characters:\", char_count)\n"
   ]
  },
  {
   "cell_type": "code",
   "execution_count": 4,
   "id": "453434cc",
   "metadata": {},
   "outputs": [
    {
     "name": "stdout",
     "output_type": "stream",
     "text": [
      "List of lines: ['Hello Mitesh Sir form Shivkumar Paun', 'Hello Mitesh Sir form Shivkumar Paun']\n"
     ]
    }
   ],
   "source": [
    "filename = \"shivintro.txt\"\n",
    "lines_list = []\n",
    "\n",
    "with open(filename, \"r\") as f:\n",
    "    for line in f:\n",
    "        lines_list.append(line.strip())\n",
    "\n",
    "print(\"List of lines:\", lines_list)"
   ]
  },
  {
   "cell_type": "code",
   "execution_count": 5,
   "id": "98da0dd9",
   "metadata": {},
   "outputs": [
    {
     "name": "stdout",
     "output_type": "stream",
     "text": [
      "['ID', 'Name', 'Age', 'City']\n",
      "['1', 'Shivkumar Paun', '20', 'Rajkot']\n",
      "['2', 'John Doe', '25', 'New York']\n",
      "['3', 'Alice Smith', '22', 'London']\n"
     ]
    }
   ],
   "source": [
    "import csv\n",
    "\n",
    "filename = \"people.csv\"\n",
    "\n",
    "with open(filename, \"r\") as f:\n",
    "    reader = csv.reader(f)\n",
    "    for row in reader:\n",
    "        print(row)"
   ]
  },
  {
   "cell_type": "code",
   "execution_count": 6,
   "id": "d506fe00",
   "metadata": {},
   "outputs": [
    {
     "name": "stdout",
     "output_type": "stream",
     "text": [
      "Files file1.txt and file2.txt merged into merged.txt\n"
     ]
    }
   ],
   "source": [
    "file1 = \"file1.txt\"\n",
    "file2 = \"file2.txt\"\n",
    "merged = \"merged.txt\"\n",
    "\n",
    "with open(file1, \"r\") as f1, open(file2, \"r\") as f2, open(merged, \"w\") as out:\n",
    "    for line in f1:\n",
    "        out.write(line)\n",
    "    for line in f2:\n",
    "        out.write(line)\n",
    "\n",
    "print(f\"Files {file1} and {file2} merged into {merged}\")"
   ]
  },
  {
   "cell_type": "code",
   "execution_count": null,
   "metadata": {},
   "outputs": [],
   "source": []
  },
  {
   "cell_type": "code",
   "execution_count": null,
   "metadata": {},
   "outputs": [],
   "source": []
  },
  {
   "cell_type": "code",
   "execution_count": null,
   "metadata": {},
   "outputs": [],
   "source": []
  }
 ],
 "metadata": {
  "kernelspec": {
   "display_name": ".venv",
   "language": "python",
   "name": "python3"
  },
  "language_info": {
   "codemirror_mode": {
    "name": "ipython",
    "version": 3
   },
   "file_extension": ".py",
   "mimetype": "text/x-python",
   "name": "python",
   "nbconvert_exporter": "python",
   "pygments_lexer": "ipython3",
   "version": "3.12.4"
  }
 },
 "nbformat": 4,
 "nbformat_minor": 5
}
